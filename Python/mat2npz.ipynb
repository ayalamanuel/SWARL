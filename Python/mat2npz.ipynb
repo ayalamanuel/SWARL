{
 "cells": [
  {
   "cell_type": "code",
   "execution_count": 13,
   "id": "1f2c13b2-2b62-4dce-99f3-c413e8302b43",
   "metadata": {
    "tags": []
   },
   "outputs": [],
   "source": [
    "from scipy.io import loadmat\n",
    "import numpy as np\n",
    "\n",
    "# Convert MATLAB file to NumPy\n",
    "wave_case = 'B5'  \n",
    "mat_data = loadmat(f'Surfaces/{wave_case}.mat')  \n",
    "np.savez(f'{wave_case}.npz',  \n",
    "         eta_t1=mat_data['eta_t1'],\n",
    "         eta_t2=mat_data['eta_t2'],\n",
    "         Ret=mat_data['Ret'],\n",
    "         u_star=mat_data['u_star'],\n",
    "         h=mat_data['h'],\n",
    "         amp=mat_data['amp'],\n",
    "         Lx=mat_data['Lx'],\n",
    "         Ly=mat_data['Ly'],\n",
    "         nx=mat_data['nx'],\n",
    "         ny=mat_data['ny'])"
   ]
  },
  {
   "cell_type": "code",
   "execution_count": 21,
   "id": "d6e2404f-2615-495f-ab50-be50b0ff82a5",
   "metadata": {
    "tags": []
   },
   "outputs": [],
   "source": [
    "from scipy.io import loadmat\n",
    "import numpy as np\n",
    "\n",
    "# Convert MATLAB file to NumPy\n",
    "wave_case = 'Y1'  \n",
    "mat_data = loadmat(f'Surfaces/{wave_case}.mat')  \n",
    "np.savez(f'{wave_case}.npz',  \n",
    "    eta_t1 = mat_data['eta_t1'],\n",
    "    eta_t2 = mat_data['eta_t2'],\n",
    "    Ret = mat_data['Ret'],\n",
    "    u_star = mat_data['u_star'],\n",
    "    alpha_p = mat_data['alpha'],\n",
    "    kp = mat_data['kp'],\n",
    "    Lx = mat_data['Lx'],\n",
    "    Ly = mat_data['Ly'],\n",
    "    nx = mat_data['nx'],\n",
    "    ny = mat_data['ny'],\n",
    "    Hs_measured = mat_data['Hs_measured'])"
   ]
  },
  {
   "cell_type": "code",
   "execution_count": null,
   "id": "ffadac90-9d8e-4bc0-8f7e-45c8d33e4d11",
   "metadata": {},
   "outputs": [],
   "source": []
  }
 ],
 "metadata": {
  "kernelspec": {
   "display_name": "Python 3 (ipykernel)",
   "language": "python",
   "name": "python3"
  },
  "language_info": {
   "codemirror_mode": {
    "name": "ipython",
    "version": 3
   },
   "file_extension": ".py",
   "mimetype": "text/x-python",
   "name": "python",
   "nbconvert_exporter": "python",
   "pygments_lexer": "ipython3",
   "version": "3.11.3"
  }
 },
 "nbformat": 4,
 "nbformat_minor": 5
}

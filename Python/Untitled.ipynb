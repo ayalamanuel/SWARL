{
 "cells": [
  {
   "cell_type": "code",
   "execution_count": 10,
   "id": "76046fbf-2508-42bf-8d0b-10ef1ca19183",
   "metadata": {
    "tags": []
   },
   "outputs": [],
   "source": [
    "from zo_wave_model import calculate_wave_model_mono, calculate_wave_model_multi"
   ]
  },
  {
   "cell_type": "code",
   "execution_count": 16,
   "id": "f7649cf7-e690-41a8-a008-08dc1b706ee7",
   "metadata": {
    "tags": []
   },
   "outputs": [],
   "source": [
    "\n",
    "# For monochromatic waves\n",
    "zo_mono = calculate_wave_model_mono('W1.npz')\n",
    "#print(f'Monochromatic wave roughness: {zo_mono:.6f}')\n"
   ]
  },
  {
   "cell_type": "code",
   "execution_count": 17,
   "id": "9dfbab46-6aae-44eb-b9ee-011a51482976",
   "metadata": {
    "tags": []
   },
   "outputs": [
    {
     "data": {
      "text/plain": [
       "array([[0.00383867]])"
      ]
     },
     "execution_count": 17,
     "metadata": {},
     "output_type": "execute_result"
    }
   ],
   "source": [
    "zo_mono"
   ]
  },
  {
   "cell_type": "code",
   "execution_count": 18,
   "id": "f6acbb00-fe53-4a5b-815c-2116b9eaf744",
   "metadata": {
    "tags": []
   },
   "outputs": [],
   "source": [
    "# For multiscale waves\n",
    "zo_multi = calculate_wave_model_multi('Y1.npz')\n",
    "#print(f'Multiscale wave roughness: {zo_multi:.6f}')"
   ]
  },
  {
   "cell_type": "code",
   "execution_count": 19,
   "id": "2f9d4f52-104a-47e4-8ffe-ba1624d8975d",
   "metadata": {
    "tags": []
   },
   "outputs": [
    {
     "data": {
      "text/plain": [
       "array([[0.00323949]])"
      ]
     },
     "execution_count": 19,
     "metadata": {},
     "output_type": "execute_result"
    }
   ],
   "source": [
    "zo_multi"
   ]
  },
  {
   "cell_type": "code",
   "execution_count": null,
   "id": "20c5b90d-68dd-41cd-958a-37e4ef4ecdc2",
   "metadata": {},
   "outputs": [],
   "source": []
  }
 ],
 "metadata": {
  "kernelspec": {
   "display_name": "Python 3 (ipykernel)",
   "language": "python",
   "name": "python3"
  },
  "language_info": {
   "codemirror_mode": {
    "name": "ipython",
    "version": 3
   },
   "file_extension": ".py",
   "mimetype": "text/x-python",
   "name": "python",
   "nbconvert_exporter": "python",
   "pygments_lexer": "ipython3",
   "version": "3.11.3"
  }
 },
 "nbformat": 4,
 "nbformat_minor": 5
}
